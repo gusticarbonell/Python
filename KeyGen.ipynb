{
 "cells": [
  {
   "cell_type": "code",
   "execution_count": 1,
   "metadata": {},
   "outputs": [
    {
     "name": "stdout",
     "output_type": "stream",
     "text": [
      "Hola, d estas son tus claves generadas: \n",
      "Clave generada para 'gb': %0J\n"
     ]
    }
   ],
   "source": [
    "import random\n",
    "import string\n",
    "\n",
    "# Solicitar el nombre del usuario\n",
    "nombre = input(\"Escribe tu nombre: \")\n",
    "\n",
    "# Mostrar un saludo personalizado\n",
    "print(f\"Hola, {nombre} estas son tus claves generadas: \")\n",
    "\n",
    "# Diccionario para almacenar las claves generadas y sus aplicaciones\n",
    "claves_y_aplicaciones = {}\n",
    "\n",
    "def generar_key(longitud):\n",
    "    caracteres = string.ascii_letters + string.digits + string.punctuation\n",
    "    while True:\n",
    "        key = ''.join(random.choice(caracteres) for _ in range(longitud))\n",
    "        # Verificar que la clave tenga al menos un número, una letra y un símbolo\n",
    "        if any(c.isdigit() for c in key) and any(c.isalpha() for c in key) and any(c in string.punctuation for c in key):\n",
    "            return key\n",
    "\n",
    "def obtener_longitud_valida():\n",
    "    while True:\n",
    "        longitud_str = input(\"Ingrese la longitud deseada de la clave generada: \")\n",
    "        if not longitud_str.isdigit():\n",
    "            print(\"Error: Por favor, ingrese un número entero válido.\")\n",
    "        else:\n",
    "            return int(longitud_str)\n",
    "\n",
    "while True:\n",
    "    aplicacion = input(\"Ingrese el nombre de la aplicación para la que desea generar una clave (o 'salir' para terminar): \")\n",
    "    if aplicacion.lower() == 'salir':\n",
    "        break\n",
    "\n",
    "    longitud_key = obtener_longitud_valida()\n",
    "    key_generada = generar_key(longitud_key)\n",
    "    \n",
    "    # Almacenar la clave generada en la lista correspondiente a la aplicación\n",
    "    if aplicacion in claves_y_aplicaciones:\n",
    "        claves_y_aplicaciones[aplicacion].append(key_generada)\n",
    "    else:\n",
    "        claves_y_aplicaciones[aplicacion] = [key_generada]\n",
    "    \n",
    "    print(f\"Clave generada para '{aplicacion}': {key_generada}\")\n",
    "\n",
    "# Save the generated keys in a txt file\n",
    "with open('claves.txt', 'a') as f:\n",
    "    for aplicacion, claves in claves_y_aplicaciones.items():\n",
    "        f.write(f\"Claves para '{aplicacion}':\\n\")\n",
    "        for clave in claves:\n",
    "            f.write(f\"{clave}\\n\")\n",
    "        f.write(\"\\n\")"
   ]
  }
 ],
 "metadata": {
  "kernelspec": {
   "display_name": "Python 3",
   "language": "python",
   "name": "python3"
  },
  "language_info": {
   "codemirror_mode": {
    "name": "ipython",
    "version": 3
   },
   "file_extension": ".py",
   "mimetype": "text/x-python",
   "name": "python",
   "nbconvert_exporter": "python",
   "pygments_lexer": "ipython3",
   "version": "3.11.3"
  },
  "orig_nbformat": 4
 },
 "nbformat": 4,
 "nbformat_minor": 2
}
